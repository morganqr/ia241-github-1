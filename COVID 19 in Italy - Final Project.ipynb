{
 "cells": [
  {
   "cell_type": "markdown",
   "id": "fd37fbaa",
   "metadata": {},
   "source": [
    "# COVID-19 in Italy 2020 - 2022"
   ]
  },
  {
   "cell_type": "markdown",
   "id": "cb1e1452",
   "metadata": {},
   "source": [
    "![Italy Map](https://images.fineartamerica.com/images/artworkimages/mediumlarge/2/old-italy-map-belterz.jpg)"
   ]
  },
  {
   "cell_type": "markdown",
   "id": "919b50ea",
   "metadata": {},
   "source": [
    "## Introduction"
   ]
  },
  {
   "cell_type": "markdown",
   "id": "6ab986eb",
   "metadata": {},
   "source": [
    "COVID-19 originated from Wuhan City in the Hubei Procince of China. This contagious disease is defined as a severe acute respiratory syndrome coronavirus 2 (SARS-CoV-2). This virus has taken many lives form 2020 to 2022. Since 2020, there has been a little over 500 million cases of COVID. In 2021, scientist were able to make a COVID vaccine to try to prevent again COVID. These vaccines have helped reduce COVID death rates globally. \n",
    "\n",
    "Italy was one of the countries that were heavily impacted by COVID-19. There COVID rates were very high in 2020. Due to there procedures and health precautions, they were able to reduce their COVID rates."
   ]
  },
  {
   "cell_type": "markdown",
   "id": "6bbae641",
   "metadata": {},
   "source": [
    "## Data Source"
   ]
  },
  {
   "cell_type": "markdown",
   "id": "8859050e",
   "metadata": {},
   "source": [
    "The data is from [European Centre for Disease Prevention and Control]('https://www.ecdc.europa.eu/en/publications-data/download-todays-data-geographic-distribution-covid-19-cases-worldwide')"
   ]
  },
  {
   "cell_type": "code",
   "execution_count": 12,
   "id": "b78e69ee",
   "metadata": {},
   "outputs": [],
   "source": [
    "%matplotlib inline\n",
    "import pandas"
   ]
  },
  {
   "cell_type": "markdown",
   "id": "de20569a",
   "metadata": {},
   "source": [
    "## Overall View of Data"
   ]
  },
  {
   "cell_type": "code",
   "execution_count": 14,
   "id": "68dc8966",
   "metadata": {},
   "outputs": [
    {
     "data": {
      "text/html": [
       "<div>\n",
       "<style scoped>\n",
       "    .dataframe tbody tr th:only-of-type {\n",
       "        vertical-align: middle;\n",
       "    }\n",
       "\n",
       "    .dataframe tbody tr th {\n",
       "        vertical-align: top;\n",
       "    }\n",
       "\n",
       "    .dataframe thead th {\n",
       "        text-align: right;\n",
       "    }\n",
       "</style>\n",
       "<table border=\"1\" class=\"dataframe\">\n",
       "  <thead>\n",
       "    <tr style=\"text-align: right;\">\n",
       "      <th></th>\n",
       "      <th>dateRep</th>\n",
       "      <th>day</th>\n",
       "      <th>month</th>\n",
       "      <th>year</th>\n",
       "      <th>cases</th>\n",
       "      <th>deaths</th>\n",
       "      <th>countriesAndTerritories</th>\n",
       "      <th>geoId</th>\n",
       "      <th>countryterritoryCode</th>\n",
       "      <th>popData2019</th>\n",
       "      <th>continentExp</th>\n",
       "      <th>Cumulative_number_for_14_days_of_COVID-19_cases_per_100000</th>\n",
       "    </tr>\n",
       "  </thead>\n",
       "  <tbody>\n",
       "    <tr>\n",
       "      <th>0</th>\n",
       "      <td>14/12/2020</td>\n",
       "      <td>14</td>\n",
       "      <td>12</td>\n",
       "      <td>2020</td>\n",
       "      <td>746</td>\n",
       "      <td>6</td>\n",
       "      <td>Afghanistan</td>\n",
       "      <td>AF</td>\n",
       "      <td>AFG</td>\n",
       "      <td>38041757.0</td>\n",
       "      <td>Asia</td>\n",
       "      <td>9.013779</td>\n",
       "    </tr>\n",
       "    <tr>\n",
       "      <th>1</th>\n",
       "      <td>13/12/2020</td>\n",
       "      <td>13</td>\n",
       "      <td>12</td>\n",
       "      <td>2020</td>\n",
       "      <td>298</td>\n",
       "      <td>9</td>\n",
       "      <td>Afghanistan</td>\n",
       "      <td>AF</td>\n",
       "      <td>AFG</td>\n",
       "      <td>38041757.0</td>\n",
       "      <td>Asia</td>\n",
       "      <td>7.052776</td>\n",
       "    </tr>\n",
       "    <tr>\n",
       "      <th>2</th>\n",
       "      <td>2020-12-12 00:00:00</td>\n",
       "      <td>12</td>\n",
       "      <td>12</td>\n",
       "      <td>2020</td>\n",
       "      <td>113</td>\n",
       "      <td>11</td>\n",
       "      <td>Afghanistan</td>\n",
       "      <td>AF</td>\n",
       "      <td>AFG</td>\n",
       "      <td>38041757.0</td>\n",
       "      <td>Asia</td>\n",
       "      <td>6.868768</td>\n",
       "    </tr>\n",
       "    <tr>\n",
       "      <th>3</th>\n",
       "      <td>2020-11-12 00:00:00</td>\n",
       "      <td>11</td>\n",
       "      <td>12</td>\n",
       "      <td>2020</td>\n",
       "      <td>63</td>\n",
       "      <td>10</td>\n",
       "      <td>Afghanistan</td>\n",
       "      <td>AF</td>\n",
       "      <td>AFG</td>\n",
       "      <td>38041757.0</td>\n",
       "      <td>Asia</td>\n",
       "      <td>7.134266</td>\n",
       "    </tr>\n",
       "    <tr>\n",
       "      <th>4</th>\n",
       "      <td>2020-10-12 00:00:00</td>\n",
       "      <td>10</td>\n",
       "      <td>12</td>\n",
       "      <td>2020</td>\n",
       "      <td>202</td>\n",
       "      <td>16</td>\n",
       "      <td>Afghanistan</td>\n",
       "      <td>AF</td>\n",
       "      <td>AFG</td>\n",
       "      <td>38041757.0</td>\n",
       "      <td>Asia</td>\n",
       "      <td>6.968658</td>\n",
       "    </tr>\n",
       "    <tr>\n",
       "      <th>5</th>\n",
       "      <td>2020-09-12 00:00:00</td>\n",
       "      <td>9</td>\n",
       "      <td>12</td>\n",
       "      <td>2020</td>\n",
       "      <td>135</td>\n",
       "      <td>13</td>\n",
       "      <td>Afghanistan</td>\n",
       "      <td>AF</td>\n",
       "      <td>AFG</td>\n",
       "      <td>38041757.0</td>\n",
       "      <td>Asia</td>\n",
       "      <td>6.963401</td>\n",
       "    </tr>\n",
       "    <tr>\n",
       "      <th>6</th>\n",
       "      <td>2020-08-12 00:00:00</td>\n",
       "      <td>8</td>\n",
       "      <td>12</td>\n",
       "      <td>2020</td>\n",
       "      <td>200</td>\n",
       "      <td>6</td>\n",
       "      <td>Afghanistan</td>\n",
       "      <td>AF</td>\n",
       "      <td>AFG</td>\n",
       "      <td>38041757.0</td>\n",
       "      <td>Asia</td>\n",
       "      <td>7.094835</td>\n",
       "    </tr>\n",
       "    <tr>\n",
       "      <th>7</th>\n",
       "      <td>2020-07-12 00:00:00</td>\n",
       "      <td>7</td>\n",
       "      <td>12</td>\n",
       "      <td>2020</td>\n",
       "      <td>210</td>\n",
       "      <td>26</td>\n",
       "      <td>Afghanistan</td>\n",
       "      <td>AF</td>\n",
       "      <td>AFG</td>\n",
       "      <td>38041757.0</td>\n",
       "      <td>Asia</td>\n",
       "      <td>7.215755</td>\n",
       "    </tr>\n",
       "    <tr>\n",
       "      <th>8</th>\n",
       "      <td>2020-06-12 00:00:00</td>\n",
       "      <td>6</td>\n",
       "      <td>12</td>\n",
       "      <td>2020</td>\n",
       "      <td>234</td>\n",
       "      <td>10</td>\n",
       "      <td>Afghanistan</td>\n",
       "      <td>AF</td>\n",
       "      <td>AFG</td>\n",
       "      <td>38041757.0</td>\n",
       "      <td>Asia</td>\n",
       "      <td>7.326160</td>\n",
       "    </tr>\n",
       "    <tr>\n",
       "      <th>9</th>\n",
       "      <td>2020-05-12 00:00:00</td>\n",
       "      <td>5</td>\n",
       "      <td>12</td>\n",
       "      <td>2020</td>\n",
       "      <td>235</td>\n",
       "      <td>18</td>\n",
       "      <td>Afghanistan</td>\n",
       "      <td>AF</td>\n",
       "      <td>AFG</td>\n",
       "      <td>38041757.0</td>\n",
       "      <td>Asia</td>\n",
       "      <td>7.115865</td>\n",
       "    </tr>\n",
       "  </tbody>\n",
       "</table>\n",
       "</div>"
      ],
      "text/plain": [
       "               dateRep  day  month  year  cases  deaths  \\\n",
       "0           14/12/2020   14     12  2020    746       6   \n",
       "1           13/12/2020   13     12  2020    298       9   \n",
       "2  2020-12-12 00:00:00   12     12  2020    113      11   \n",
       "3  2020-11-12 00:00:00   11     12  2020     63      10   \n",
       "4  2020-10-12 00:00:00   10     12  2020    202      16   \n",
       "5  2020-09-12 00:00:00    9     12  2020    135      13   \n",
       "6  2020-08-12 00:00:00    8     12  2020    200       6   \n",
       "7  2020-07-12 00:00:00    7     12  2020    210      26   \n",
       "8  2020-06-12 00:00:00    6     12  2020    234      10   \n",
       "9  2020-05-12 00:00:00    5     12  2020    235      18   \n",
       "\n",
       "  countriesAndTerritories geoId countryterritoryCode  popData2019  \\\n",
       "0             Afghanistan    AF                  AFG   38041757.0   \n",
       "1             Afghanistan    AF                  AFG   38041757.0   \n",
       "2             Afghanistan    AF                  AFG   38041757.0   \n",
       "3             Afghanistan    AF                  AFG   38041757.0   \n",
       "4             Afghanistan    AF                  AFG   38041757.0   \n",
       "5             Afghanistan    AF                  AFG   38041757.0   \n",
       "6             Afghanistan    AF                  AFG   38041757.0   \n",
       "7             Afghanistan    AF                  AFG   38041757.0   \n",
       "8             Afghanistan    AF                  AFG   38041757.0   \n",
       "9             Afghanistan    AF                  AFG   38041757.0   \n",
       "\n",
       "  continentExp  Cumulative_number_for_14_days_of_COVID-19_cases_per_100000  \n",
       "0         Asia                                           9.013779           \n",
       "1         Asia                                           7.052776           \n",
       "2         Asia                                           6.868768           \n",
       "3         Asia                                           7.134266           \n",
       "4         Asia                                           6.968658           \n",
       "5         Asia                                           6.963401           \n",
       "6         Asia                                           7.094835           \n",
       "7         Asia                                           7.215755           \n",
       "8         Asia                                           7.326160           \n",
       "9         Asia                                           7.115865           "
      ]
     },
     "execution_count": 14,
     "metadata": {},
     "output_type": "execute_result"
    }
   ],
   "source": [
    "df = pandas.read_excel('s3://ia241-1-spring2022-morganryan/covid_data.xls')\n",
    "df[:10]"
   ]
  },
  {
   "cell_type": "markdown",
   "id": "f702c249",
   "metadata": {},
   "source": [
    "This overall view as many aspects to review and observe to make observations about all cases globally. Having different aspects of data allows for widen understanding of COVID data. "
   ]
  },
  {
   "cell_type": "markdown",
   "id": "aaa24ff4",
   "metadata": {},
   "source": [
    "## Italy's COVID data"
   ]
  },
  {
   "cell_type": "code",
   "execution_count": 15,
   "id": "d830fb88",
   "metadata": {},
   "outputs": [
    {
     "data": {
      "text/html": [
       "<div>\n",
       "<style scoped>\n",
       "    .dataframe tbody tr th:only-of-type {\n",
       "        vertical-align: middle;\n",
       "    }\n",
       "\n",
       "    .dataframe tbody tr th {\n",
       "        vertical-align: top;\n",
       "    }\n",
       "\n",
       "    .dataframe thead th {\n",
       "        text-align: right;\n",
       "    }\n",
       "</style>\n",
       "<table border=\"1\" class=\"dataframe\">\n",
       "  <thead>\n",
       "    <tr style=\"text-align: right;\">\n",
       "      <th></th>\n",
       "      <th>dateRep</th>\n",
       "      <th>day</th>\n",
       "      <th>month</th>\n",
       "      <th>year</th>\n",
       "      <th>cases</th>\n",
       "      <th>deaths</th>\n",
       "      <th>countriesAndTerritories</th>\n",
       "      <th>geoId</th>\n",
       "      <th>countryterritoryCode</th>\n",
       "      <th>popData2019</th>\n",
       "      <th>continentExp</th>\n",
       "      <th>Cumulative_number_for_14_days_of_COVID-19_cases_per_100000</th>\n",
       "    </tr>\n",
       "  </thead>\n",
       "  <tbody>\n",
       "    <tr>\n",
       "      <th>29099</th>\n",
       "      <td>14/12/2020</td>\n",
       "      <td>14</td>\n",
       "      <td>12</td>\n",
       "      <td>2020</td>\n",
       "      <td>17937</td>\n",
       "      <td>484</td>\n",
       "      <td>Italy</td>\n",
       "      <td>IT</td>\n",
       "      <td>ITA</td>\n",
       "      <td>60359546.0</td>\n",
       "      <td>Europe</td>\n",
       "      <td>428.323301</td>\n",
       "    </tr>\n",
       "    <tr>\n",
       "      <th>29100</th>\n",
       "      <td>13/12/2020</td>\n",
       "      <td>13</td>\n",
       "      <td>12</td>\n",
       "      <td>2020</td>\n",
       "      <td>19902</td>\n",
       "      <td>649</td>\n",
       "      <td>Italy</td>\n",
       "      <td>IT</td>\n",
       "      <td>ITA</td>\n",
       "      <td>60359546.0</td>\n",
       "      <td>Europe</td>\n",
       "      <td>432.811406</td>\n",
       "    </tr>\n",
       "    <tr>\n",
       "      <th>29101</th>\n",
       "      <td>2020-12-12 00:00:00</td>\n",
       "      <td>12</td>\n",
       "      <td>12</td>\n",
       "      <td>2020</td>\n",
       "      <td>18726</td>\n",
       "      <td>761</td>\n",
       "      <td>Italy</td>\n",
       "      <td>IT</td>\n",
       "      <td>ITA</td>\n",
       "      <td>60359546.0</td>\n",
       "      <td>Europe</td>\n",
       "      <td>443.436072</td>\n",
       "    </tr>\n",
       "    <tr>\n",
       "      <th>29102</th>\n",
       "      <td>2020-11-12 00:00:00</td>\n",
       "      <td>11</td>\n",
       "      <td>12</td>\n",
       "      <td>2020</td>\n",
       "      <td>16998</td>\n",
       "      <td>887</td>\n",
       "      <td>Italy</td>\n",
       "      <td>IT</td>\n",
       "      <td>ITA</td>\n",
       "      <td>60359546.0</td>\n",
       "      <td>Europe</td>\n",
       "      <td>459.367272</td>\n",
       "    </tr>\n",
       "    <tr>\n",
       "      <th>29103</th>\n",
       "      <td>2020-10-12 00:00:00</td>\n",
       "      <td>10</td>\n",
       "      <td>12</td>\n",
       "      <td>2020</td>\n",
       "      <td>12755</td>\n",
       "      <td>499</td>\n",
       "      <td>Italy</td>\n",
       "      <td>IT</td>\n",
       "      <td>ITA</td>\n",
       "      <td>60359546.0</td>\n",
       "      <td>Europe</td>\n",
       "      <td>479.253108</td>\n",
       "    </tr>\n",
       "    <tr>\n",
       "      <th>29104</th>\n",
       "      <td>2020-09-12 00:00:00</td>\n",
       "      <td>9</td>\n",
       "      <td>12</td>\n",
       "      <td>2020</td>\n",
       "      <td>14837</td>\n",
       "      <td>634</td>\n",
       "      <td>Italy</td>\n",
       "      <td>IT</td>\n",
       "      <td>ITA</td>\n",
       "      <td>60359546.0</td>\n",
       "      <td>Europe</td>\n",
       "      <td>500.951415</td>\n",
       "    </tr>\n",
       "    <tr>\n",
       "      <th>29105</th>\n",
       "      <td>2020-08-12 00:00:00</td>\n",
       "      <td>8</td>\n",
       "      <td>12</td>\n",
       "      <td>2020</td>\n",
       "      <td>13679</td>\n",
       "      <td>528</td>\n",
       "      <td>Italy</td>\n",
       "      <td>IT</td>\n",
       "      <td>ITA</td>\n",
       "      <td>60359546.0</td>\n",
       "      <td>Europe</td>\n",
       "      <td>514.851454</td>\n",
       "    </tr>\n",
       "    <tr>\n",
       "      <th>29106</th>\n",
       "      <td>2020-07-12 00:00:00</td>\n",
       "      <td>7</td>\n",
       "      <td>12</td>\n",
       "      <td>2020</td>\n",
       "      <td>18887</td>\n",
       "      <td>564</td>\n",
       "      <td>Italy</td>\n",
       "      <td>IT</td>\n",
       "      <td>ITA</td>\n",
       "      <td>60359546.0</td>\n",
       "      <td>Europe</td>\n",
       "      <td>530.172974</td>\n",
       "    </tr>\n",
       "    <tr>\n",
       "      <th>29107</th>\n",
       "      <td>2020-06-12 00:00:00</td>\n",
       "      <td>6</td>\n",
       "      <td>12</td>\n",
       "      <td>2020</td>\n",
       "      <td>21052</td>\n",
       "      <td>662</td>\n",
       "      <td>Italy</td>\n",
       "      <td>IT</td>\n",
       "      <td>ITA</td>\n",
       "      <td>60359546.0</td>\n",
       "      <td>Europe</td>\n",
       "      <td>545.829155</td>\n",
       "    </tr>\n",
       "    <tr>\n",
       "      <th>29108</th>\n",
       "      <td>2020-05-12 00:00:00</td>\n",
       "      <td>5</td>\n",
       "      <td>12</td>\n",
       "      <td>2020</td>\n",
       "      <td>24110</td>\n",
       "      <td>814</td>\n",
       "      <td>Italy</td>\n",
       "      <td>IT</td>\n",
       "      <td>ITA</td>\n",
       "      <td>60359546.0</td>\n",
       "      <td>Europe</td>\n",
       "      <td>568.546357</td>\n",
       "    </tr>\n",
       "  </tbody>\n",
       "</table>\n",
       "</div>"
      ],
      "text/plain": [
       "                   dateRep  day  month  year  cases  deaths  \\\n",
       "29099           14/12/2020   14     12  2020  17937     484   \n",
       "29100           13/12/2020   13     12  2020  19902     649   \n",
       "29101  2020-12-12 00:00:00   12     12  2020  18726     761   \n",
       "29102  2020-11-12 00:00:00   11     12  2020  16998     887   \n",
       "29103  2020-10-12 00:00:00   10     12  2020  12755     499   \n",
       "29104  2020-09-12 00:00:00    9     12  2020  14837     634   \n",
       "29105  2020-08-12 00:00:00    8     12  2020  13679     528   \n",
       "29106  2020-07-12 00:00:00    7     12  2020  18887     564   \n",
       "29107  2020-06-12 00:00:00    6     12  2020  21052     662   \n",
       "29108  2020-05-12 00:00:00    5     12  2020  24110     814   \n",
       "\n",
       "      countriesAndTerritories geoId countryterritoryCode  popData2019  \\\n",
       "29099                   Italy    IT                  ITA   60359546.0   \n",
       "29100                   Italy    IT                  ITA   60359546.0   \n",
       "29101                   Italy    IT                  ITA   60359546.0   \n",
       "29102                   Italy    IT                  ITA   60359546.0   \n",
       "29103                   Italy    IT                  ITA   60359546.0   \n",
       "29104                   Italy    IT                  ITA   60359546.0   \n",
       "29105                   Italy    IT                  ITA   60359546.0   \n",
       "29106                   Italy    IT                  ITA   60359546.0   \n",
       "29107                   Italy    IT                  ITA   60359546.0   \n",
       "29108                   Italy    IT                  ITA   60359546.0   \n",
       "\n",
       "      continentExp  Cumulative_number_for_14_days_of_COVID-19_cases_per_100000  \n",
       "29099       Europe                                         428.323301           \n",
       "29100       Europe                                         432.811406           \n",
       "29101       Europe                                         443.436072           \n",
       "29102       Europe                                         459.367272           \n",
       "29103       Europe                                         479.253108           \n",
       "29104       Europe                                         500.951415           \n",
       "29105       Europe                                         514.851454           \n",
       "29106       Europe                                         530.172974           \n",
       "29107       Europe                                         545.829155           \n",
       "29108       Europe                                         568.546357           "
      ]
     },
     "execution_count": 15,
     "metadata": {},
     "output_type": "execute_result"
    }
   ],
   "source": [
    "italy_data = df.loc[ df['countriesAndTerritories']=='Italy' ]\n",
    "\n",
    "italy_data[:10]"
   ]
  },
  {
   "cell_type": "markdown",
   "id": "1a68a803",
   "metadata": {},
   "source": [
    "Italy has had many cases and deaths throughout the pandemic. Having a variety of COVID data can help a country like Italy prepare and recover better from pandemics such as COVID. "
   ]
  },
  {
   "cell_type": "markdown",
   "id": "770fad83",
   "metadata": {},
   "source": [
    "![COVID](data:image/jpeg;base64,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)"
   ]
  },
  {
   "cell_type": "markdown",
   "id": "4f8e5a9b",
   "metadata": {},
   "source": [
    "## How many cases of COVID globally?"
   ]
  },
  {
   "cell_type": "code",
   "execution_count": 62,
   "id": "c4076884",
   "metadata": {},
   "outputs": [
    {
     "data": {
      "text/plain": [
       "71503614"
      ]
     },
     "execution_count": 62,
     "metadata": {},
     "output_type": "execute_result"
    }
   ],
   "source": [
    "df.sum()['cases']"
   ]
  },
  {
   "cell_type": "code",
   "execution_count": 69,
   "id": "bec5cd73",
   "metadata": {},
   "outputs": [
    {
     "data": {
      "text/plain": [
       "1612833"
      ]
     },
     "execution_count": 69,
     "metadata": {},
     "output_type": "execute_result"
    }
   ],
   "source": [
    "df.sum()['deaths']"
   ]
  },
  {
   "cell_type": "code",
   "execution_count": 63,
   "id": "3285b858",
   "metadata": {},
   "outputs": [
    {
     "data": {
      "text/plain": [
       "<AxesSubplot:xlabel='month'>"
      ]
     },
     "execution_count": 63,
     "metadata": {},
     "output_type": "execute_result"
    },
    {
     "data": {
      "image/png": "[encoded data removed]",
      "text/plain": [
       "<Figure size 432x288 with 1 Axes>"
      ]
     },
     "metadata": {
      "needs_background": "light"
     },
     "output_type": "display_data"
    }
   ],
   "source": [
    "sum_cases_by_month = df.groupby('month').sum()['cases']\n",
    "sum_cases_by_month.nlargest(12).plot.bar()"
   ]
  },
  {
   "cell_type": "markdown",
   "id": "20d5a6bb",
   "metadata": {},
   "source": [
    "## How many cases of COVID in Italy?"
   ]
  },
  {
   "cell_type": "code",
   "execution_count": 64,
   "id": "1dc41123",
   "metadata": {},
   "outputs": [
    {
     "data": {
      "text/plain": [
       "1843712"
      ]
     },
     "execution_count": 64,
     "metadata": {},
     "output_type": "execute_result"
    }
   ],
   "source": [
    "italy_data.sum()['cases']"
   ]
  },
  {
   "cell_type": "markdown",
   "id": "2315240e",
   "metadata": {},
   "source": [
    "## What was the highest cases of COVID by month for Italy?"
   ]
  },
  {
   "cell_type": "code",
   "execution_count": 66,
   "id": "1ce1e44c",
   "metadata": {},
   "outputs": [],
   "source": [
    "sum_cases_per_day=italy_data.groupby('month').sum()['cases']"
   ]
  },
  {
   "cell_type": "code",
   "execution_count": 67,
   "id": "e4f2f1ec",
   "metadata": {},
   "outputs": [
    {
     "data": {
      "text/plain": [
       "<AxesSubplot:xlabel='month'>"
      ]
     },
     "execution_count": 67,
     "metadata": {},
     "output_type": "execute_result"
    },
    {
     "data": {
      "image/png": "[encoded data removed]",
      "text/plain": [
       "<Figure size 432x288 with 1 Axes>"
      ]
     },
     "metadata": {
      "needs_background": "light"
     },
     "output_type": "display_data"
    }
   ],
   "source": [
    "sum_cases_per_day.plot()"
   ]
  },
  {
   "cell_type": "markdown",
   "id": "27856658",
   "metadata": {},
   "source": [
    "## How many deaths of COVID have there been in total for Italy?"
   ]
  },
  {
   "cell_type": "code",
   "execution_count": 51,
   "id": "5002a98a",
   "metadata": {},
   "outputs": [
    {
     "data": {
      "text/plain": [
       "64520"
      ]
     },
     "execution_count": 51,
     "metadata": {},
     "output_type": "execute_result"
    }
   ],
   "source": [
    "italy_data.sum()['deaths']"
   ]
  },
  {
   "cell_type": "code",
   "execution_count": 53,
   "id": "2a2fa2cf",
   "metadata": {},
   "outputs": [],
   "source": [
    "sum_death_per_day=italy_data.groupby('month').sum()['deaths']"
   ]
  },
  {
   "cell_type": "code",
   "execution_count": 56,
   "id": "a5dcc150",
   "metadata": {},
   "outputs": [
    {
     "data": {
      "text/plain": [
       "<AxesSubplot:xlabel='cases', ylabel='deaths'>"
      ]
     },
     "execution_count": 56,
     "metadata": {},
     "output_type": "execute_result"
    },
    {
     "data": {
      "image/png": "[encoded data removed]",
      "text/plain": [
       "<Figure size 432x288 with 2 Axes>"
      ]
     },
     "metadata": {
      "needs_background": "light"
     },
     "output_type": "display_data"
    }
   ],
   "source": [
    "italy_data.plot.scatter(x='cases',y='deaths',c='month')"
   ]
  },
  {
   "cell_type": "markdown",
   "id": "ee4af7ba",
   "metadata": {},
   "source": [
    "## Conclusion"
   ]
  },
  {
   "cell_type": "markdown",
   "id": "eb11a571",
   "metadata": {},
   "source": [
    "COVID has been a major issue internationally. Italy suffered many deaths due to the virus. There methods and procedures have prevented more cases and reduced more loss of life. The COVID pandemic has heavily impacted people's lives and communities. \n",
    "\n",
    "The data collected from the European Centre of Disease Prevention and Control has helped understand the overall global and Italian COVID data. From the overall global data, Italy makes up about 2.58% of the cases and 4% of deaths. Though on a global scale these may be smaller percentages, these numbers are large for the country itself. These cases and deaths would occur in the later part of the year. Somewhere between fall to winter time, cases and death would increase.\n",
    "\n",
    "For future use, I would have liked to look more into coommunity effects and impacts. In addition, how Italian educational programs and hospitality services were impacted by the COVID cases. By widening the view, there is a further understanding on how COVID effected Italy as a country domestically."
   ]
  },
  {
   "cell_type": "markdown",
   "id": "f51a326d",
   "metadata": {},
   "source": [
    "![Italy Flag](data:image/png;base64,iVBORw0KGgoAAAANSUhEUgAAAP8AAACqCAMAAABVlWm8AAAACVBMVEUAkkb////OKzdsRJOSAAAAxklEQVR4nO3PMQEAAAjAILV/aFPsgwbMFLZwhaTv7+/v7+/v7+/v7+/v7+/v7+/v7+/v7+/v7+/v7+/v7+/v7+/v7+/v7+/v7+/v7+/v7+/v7+/v7+/v7+/v7+/v7+/v7+/v7+/v7+/v7+/v7+/v7+/v7+/v7+/v7+/v7+/v7+/v7+/v7+/v7+/v7+/v7+/v7+/v7+/v7+/v7+/v7+/v7+/v7+/v7+/v7+/v7+/v7+/v7+/v7+/v7+/v7+/v7+/v7+/v75/+HwW0qVdTeFEnAAAAAElFTkSuQmCC)"
   ]
  }
 ],
 "metadata": {
  "kernelspec": {
   "display_name": "conda_python3",
   "language": "python",
   "name": "conda_python3"
  },
  "language_info": {
   "codemirror_mode": {
    "name": "ipython",
    "version": 3
   },
   "file_extension": ".py",
   "mimetype": "text/x-python",
   "name": "python",
   "nbconvert_exporter": "python",
   "pygments_lexer": "ipython3",
   "version": "3.6.13"
  }
 },
 "nbformat": 4,
 "nbformat_minor": 5
}
